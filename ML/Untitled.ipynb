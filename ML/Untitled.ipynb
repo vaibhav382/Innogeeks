{
 "cells": [
  {
   "cell_type": "code",
   "execution_count": 1,
   "id": "dc7c0e8a",
   "metadata": {},
   "outputs": [],
   "source": [
    "#function"
   ]
  },
  {
   "cell_type": "code",
   "execution_count": 2,
   "id": "7f17994c",
   "metadata": {},
   "outputs": [
    {
     "name": "stdout",
     "output_type": "stream",
     "text": [
      "Enter a number: 1234567890345678\n",
      "The number is not prime\n"
     ]
    }
   ],
   "source": [
    "def prime(n):\n",
    "    for i in range(2,n//3):\n",
    "        count=0\n",
    "        if n%i==0:\n",
    "            count=1\n",
    "            break\n",
    "    if count==0:\n",
    "        print(\"The number is prime\")\n",
    "    else:\n",
    "        print(\"The number is not prime\")\n",
    "n=int(input(\"Enter a number: \"))\n",
    "count=0\n",
    "prime(n)\n",
    "        "
   ]
  },
  {
   "cell_type": "code",
   "execution_count": null,
   "id": "c5fc8e1d",
   "metadata": {},
   "outputs": [],
   "source": [
    "def prime(n):\n",
    "    count=0\n",
    "    for i in range(2,n):\n",
    "        if n%i==0:\n",
    "            count=1\n",
    "            break\n",
    "    return count\n",
    "a=int(input(\"Enter a number : \"))\n",
    "list=[]\n",
    "for i in range(2,a+1):\n",
    "    if prime(i)==0:\n",
    "        list.append(i)\n",
    "print(list)"
   ]
  },
  {
   "cell_type": "code",
   "execution_count": null,
   "id": "eb8d61ec",
   "metadata": {},
   "outputs": [],
   "source": [
    "x=2**77232917\n"
   ]
  },
  {
   "cell_type": "code",
   "execution_count": null,
   "id": "6f71ae88",
   "metadata": {},
   "outputs": [],
   "source": [
    "i=2\n",
    "while i<12345678:\n",
    "    print(i)\n",
    "    i=i+1"
   ]
  },
  {
   "cell_type": "code",
   "execution_count": null,
   "id": "54e118c4",
   "metadata": {},
   "outputs": [],
   "source": []
  }
 ],
 "metadata": {
  "kernelspec": {
   "display_name": "Python 3 (ipykernel)",
   "language": "python",
   "name": "python3"
  },
  "language_info": {
   "codemirror_mode": {
    "name": "ipython",
    "version": 3
   },
   "file_extension": ".py",
   "mimetype": "text/x-python",
   "name": "python",
   "nbconvert_exporter": "python",
   "pygments_lexer": "ipython3",
   "version": "3.9.13"
  }
 },
 "nbformat": 4,
 "nbformat_minor": 5
}
