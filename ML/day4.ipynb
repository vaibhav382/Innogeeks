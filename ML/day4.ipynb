{
 "cells": [
  {
   "cell_type": "code",
   "execution_count": 2,
   "id": "180a5ebf",
   "metadata": {},
   "outputs": [
    {
     "name": "stdout",
     "output_type": "stream",
     "text": [
      "1\n",
      "2\n",
      "3\n",
      "4\n",
      "5\n",
      "6\n",
      "7\n",
      "8\n",
      "9\n"
     ]
    }
   ],
   "source": [
    "list1=[1,2,3,4,5,6,7,8,9]\n",
    "for i in list1:\n",
    "    print(i)"
   ]
  },
  {
   "cell_type": "code",
   "execution_count": 3,
   "id": "2b7b9e35",
   "metadata": {},
   "outputs": [
    {
     "name": "stdout",
     "output_type": "stream",
     "text": [
      "I\n",
      "N\n",
      "N\n",
      "O\n",
      "G\n",
      "E\n",
      "E\n",
      "K\n",
      "S\n"
     ]
    }
   ],
   "source": [
    "for x in \"INNOGEEKS\":\n",
    "    print(x)"
   ]
  },
  {
   "cell_type": "code",
   "execution_count": 13,
   "id": "45534736",
   "metadata": {},
   "outputs": [
    {
     "name": "stdout",
     "output_type": "stream",
     "text": [
      "H\n",
      "e\n",
      "l\n",
      "l\n",
      "o\n",
      ",\n",
      " \n",
      "W\n",
      "o\n",
      "r\n",
      "l\n",
      "d\n",
      "!\n"
     ]
    }
   ],
   "source": [
    "a=\"Hello, World!\"\n",
    "for x in a:\n",
    "    print(x)"
   ]
  },
  {
   "cell_type": "code",
   "execution_count": 5,
   "id": "7dfd8975",
   "metadata": {},
   "outputs": [
    {
     "data": {
      "text/plain": [
       "'o, World'"
      ]
     },
     "execution_count": 5,
     "metadata": {},
     "output_type": "execute_result"
    }
   ],
   "source": [
    "a[4:]"
   ]
  },
  {
   "cell_type": "code",
   "execution_count": 6,
   "id": "0ff14498",
   "metadata": {},
   "outputs": [
    {
     "data": {
      "text/plain": [
       "'o, W'"
      ]
     },
     "execution_count": 6,
     "metadata": {},
     "output_type": "execute_result"
    }
   ],
   "source": [
    "a[4:8]"
   ]
  },
  {
   "cell_type": "code",
   "execution_count": 7,
   "id": "2084a251",
   "metadata": {},
   "outputs": [
    {
     "data": {
      "text/plain": [
       "'ello, W'"
      ]
     },
     "execution_count": 7,
     "metadata": {},
     "output_type": "execute_result"
    }
   ],
   "source": [
    "a[1:8]"
   ]
  },
  {
   "cell_type": "code",
   "execution_count": 8,
   "id": "9c7b134e",
   "metadata": {},
   "outputs": [],
   "source": [
    "#string(start:stop:step)"
   ]
  },
  {
   "cell_type": "code",
   "execution_count": 10,
   "id": "385c0f22",
   "metadata": {},
   "outputs": [
    {
     "data": {
      "text/plain": [
       "'Hl r'"
      ]
     },
     "execution_count": 10,
     "metadata": {},
     "output_type": "execute_result"
    }
   ],
   "source": [
    "a[0::3]"
   ]
  },
  {
   "cell_type": "code",
   "execution_count": 11,
   "id": "e5f2e82e",
   "metadata": {},
   "outputs": [],
   "source": [
    "#stop index is not the part of the new string"
   ]
  },
  {
   "cell_type": "code",
   "execution_count": 14,
   "id": "829a25e4",
   "metadata": {},
   "outputs": [
    {
     "data": {
      "text/plain": [
       "'Hello, World'"
      ]
     },
     "execution_count": 14,
     "metadata": {},
     "output_type": "execute_result"
    }
   ],
   "source": [
    "a[:-1]"
   ]
  },
  {
   "cell_type": "code",
   "execution_count": 15,
   "id": "9bcd2767",
   "metadata": {},
   "outputs": [
    {
     "name": "stdout",
     "output_type": "stream",
     "text": [
      "True\n"
     ]
    }
   ],
   "source": [
    "str=\"I am sttudying in innogeeks class\"\n",
    "print(\"am\" in str)"
   ]
  },
  {
   "cell_type": "code",
   "execution_count": 16,
   "id": "cd1dc721",
   "metadata": {},
   "outputs": [
    {
     "data": {
      "text/plain": [
       "'I AM STTUDYING IN INNOGEEKS CLASS'"
      ]
     },
     "execution_count": 16,
     "metadata": {},
     "output_type": "execute_result"
    }
   ],
   "source": [
    "str.upper()"
   ]
  },
  {
   "cell_type": "code",
   "execution_count": 17,
   "id": "15f8f569",
   "metadata": {},
   "outputs": [
    {
     "data": {
      "text/plain": [
       "'I am sttudying in innogeeks class'"
      ]
     },
     "execution_count": 17,
     "metadata": {},
     "output_type": "execute_result"
    }
   ],
   "source": [
    "str"
   ]
  },
  {
   "cell_type": "code",
   "execution_count": 21,
   "id": "608a6524",
   "metadata": {},
   "outputs": [],
   "source": [
    "str=str"
   ]
  },
  {
   "cell_type": "raw",
   "id": "85a36ba0",
   "metadata": {},
   "source": []
  },
  {
   "cell_type": "code",
   "execution_count": 20,
   "id": "f9622675",
   "metadata": {},
   "outputs": [
    {
     "data": {
      "text/plain": [
       "'I am sttudying in innogeeks class23'"
      ]
     },
     "execution_count": 20,
     "metadata": {},
     "output_type": "execute_result"
    }
   ],
   "source": [
    "str"
   ]
  },
  {
   "cell_type": "code",
   "execution_count": 22,
   "id": "5c510fd1",
   "metadata": {},
   "outputs": [
    {
     "data": {
      "text/plain": [
       "'I am sttudying in innogeeks class23'"
      ]
     },
     "execution_count": 22,
     "metadata": {},
     "output_type": "execute_result"
    }
   ],
   "source": [
    "str"
   ]
  },
  {
   "cell_type": "markdown",
   "id": "a1aa25c0",
   "metadata": {},
   "source": [
    "# FUNCTIONS"
   ]
  },
  {
   "cell_type": "code",
   "execution_count": 24,
   "id": "60d0e955",
   "metadata": {},
   "outputs": [
    {
     "name": "stdout",
     "output_type": "stream",
     "text": [
      "Vaibhav\n"
     ]
    }
   ],
   "source": [
    "def inno():\n",
    "    print(\"Vaibhav\")\n",
    "inno()"
   ]
  },
  {
   "cell_type": "code",
   "execution_count": 28,
   "id": "f7ca9612",
   "metadata": {},
   "outputs": [
    {
     "name": "stdout",
     "output_type": "stream",
     "text": [
      "Learning Python FAST\n"
     ]
    }
   ],
   "source": [
    "def test(parameter):\n",
    "    print(\"Learning Python\",parameter)\n",
    "argument=\"FAST\"\n",
    "test(argument)"
   ]
  },
  {
   "cell_type": "code",
   "execution_count": null,
   "id": "5c56e95e",
   "metadata": {},
   "outputs": [],
   "source": []
  }
 ],
 "metadata": {
  "kernelspec": {
   "display_name": "Python 3 (ipykernel)",
   "language": "python",
   "name": "python3"
  },
  "language_info": {
   "codemirror_mode": {
    "name": "ipython",
    "version": 3
   },
   "file_extension": ".py",
   "mimetype": "text/x-python",
   "name": "python",
   "nbconvert_exporter": "python",
   "pygments_lexer": "ipython3",
   "version": "3.9.13"
  }
 },
 "nbformat": 4,
 "nbformat_minor": 5
}
