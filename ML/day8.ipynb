{
 "cells": [
  {
   "cell_type": "code",
   "execution_count": 2,
   "id": "79261548",
   "metadata": {},
   "outputs": [
    {
     "name": "stdout",
     "output_type": "stream",
     "text": [
      "0       monday\n",
      "1      tuesday\n",
      "2    wednesday\n",
      "3     thursday\n",
      "4       friday\n",
      "5     saturday\n",
      "6       sunday\n",
      "dtype: object\n"
     ]
    }
   ],
   "source": [
    "import pandas as pd\n",
    "days=['monday','tuesday','wednesday','thursday','friday','saturday','sunday']\n",
    "my_series=pd.Series(days)\n",
    "print(my_series)"
   ]
  },
  {
   "cell_type": "code",
   "execution_count": 9,
   "id": "2effcdd6",
   "metadata": {
    "scrolled": true
   },
   "outputs": [],
   "source": [
    "import pandas as pd\n",
    "days=['monday','tuesday','wednesday','thursday','friday','saturday','sunday']\n",
    "max_temp=[18,19,20,20,21,16,21]\n",
    "min_temp=[10,13,12,8,7,11,12]\n",
    "events=['Rain','Thunderstorm','Rain','Sunny','Fog','Fog','Rain']\n",
    "Windspeed=[10,14,8,14,18,11,14]\n",
    "weathers={'Day':days,'Max Temperature':max_temp,\"Min Temperature\":min_temp,'Events':events,'Windspeed':Windspeed}\n",
    "df=pd.DataFrame(weathers)\n",
    "df.to_csv('weather data.csv')"
   ]
  },
  {
   "cell_type": "code",
   "execution_count": 10,
   "id": "318b008d",
   "metadata": {},
   "outputs": [
    {
     "name": "stdout",
     "output_type": "stream",
     "text": [
      "         Day  Max Temperature  Min Temperature        Events  Windspeed\n",
      "0     monday               18               10          Rain         10\n",
      "1    tuesday               19               13  Thunderstorm         14\n",
      "2  wednesday               20               12          Rain          8\n",
      "3   thursday               20                8         Sunny         14\n",
      "4     friday               21                7           Fog         18\n",
      "5   saturday               16               11           Fog         11\n",
      "6     sunday               21               12          Rain         14\n"
     ]
    }
   ],
   "source": [
    "print(df)"
   ]
  },
  {
   "cell_type": "code",
   "execution_count": null,
   "id": "89cc45dd",
   "metadata": {},
   "outputs": [],
   "source": []
  }
 ],
 "metadata": {
  "kernelspec": {
   "display_name": "Python 3 (ipykernel)",
   "language": "python",
   "name": "python3"
  },
  "language_info": {
   "codemirror_mode": {
    "name": "ipython",
    "version": 3
   },
   "file_extension": ".py",
   "mimetype": "text/x-python",
   "name": "python",
   "nbconvert_exporter": "python",
   "pygments_lexer": "ipython3",
   "version": "3.9.13"
  }
 },
 "nbformat": 4,
 "nbformat_minor": 5
}
